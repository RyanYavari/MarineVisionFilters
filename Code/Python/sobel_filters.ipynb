{
  "nbformat": 4,
  "nbformat_minor": 0,
  "metadata": {
    "colab": {
      "provenance": [],
      "include_colab_link": true
    },
    "kernelspec": {
      "name": "python3",
      "display_name": "Python 3"
    },
    "language_info": {
      "name": "python"
    }
  },
  "cells": [
    {
      "cell_type": "markdown",
      "metadata": {
        "id": "view-in-github",
        "colab_type": "text"
      },
      "source": [
        "<a href=\"https://colab.research.google.com/github/RyanYavari/MarineVisionFilters/blob/main/sobel_filters.ipynb\" target=\"_parent\"><img src=\"https://colab.research.google.com/assets/colab-badge.svg\" alt=\"Open In Colab\"/></a>"
      ]
    },
    {
      "cell_type": "code",
      "execution_count": null,
      "metadata": {
        "id": "G410rFxwQqDn"
      },
      "outputs": [],
      "source": [
        "# Libraries\n",
        "\n",
        "!pip install opencv-python\n",
        "!pip install opencv-python-headless\n",
        "!pip install numpy\n",
        "!pip install matplotlib\n",
        "\n",
        "import cv2\n",
        "import os\n",
        "import matplotlib.pyplot as plt\n",
        "import numpy as np"
      ]
    },
    {
      "cell_type": "code",
      "source": [
        "# mounting drive\n",
        "from google.colab import drive\n",
        "drive.mount('/content/drive')\n",
        "\n",
        "# Load images into array\n",
        "images_path = \"/content/drive/Shareddrives/visionFinal/ARMSPLATES/\"\n",
        "images = [cv2.imread(os.path.join(images_path, f)) for f in os.listdir(images_path)]\n"
      ],
      "metadata": {
        "id": "-GFlsbfqQx8i"
      },
      "execution_count": null,
      "outputs": []
    },
    {
      "cell_type": "code",
      "source": [
        "# Apply 15x15 Gaussian filter\n",
        "def gaussian_filter(image):\n",
        "    gaussian_image = cv2.GaussianBlur(image, (15, 15), 0)\n",
        "    return gaussian_image\n",
        "\n",
        "# Save images into folder\n",
        "gaussian_folder = \"/content/drive/Shareddrives/visionFinal/Gaussian_Filter_Images\"\n",
        "os.makedirs(gaussian_folder, exist_ok=True)\n",
        "\n",
        "for i, img in enumerate(images):\n",
        "    blurred = gaussian_filter(img)\n",
        "    cv2.imwrite(os.path.join(gaussian_folder, f\"gaussian_{i}.png\"), blurred)\n",
        "\n"
      ],
      "metadata": {
        "id": "qGYsttC9RfXN"
      },
      "execution_count": null,
      "outputs": []
    },
    {
      "cell_type": "code",
      "source": [
        "# Apply Sobel filter to black and white image\n",
        "def apply_sobel_bw(image):\n",
        "    sobel_x = cv2.Sobel(image, cv2.CV_64F, 1, 0, ksize=5)\n",
        "    sobel_y = cv2.Sobel(image, cv2.CV_64F, 0, 1, ksize=5)\n",
        "    sobel_combined = cv2.magnitude(sobel_x, sobel_y)\n",
        "\n",
        "    sobel_combined = cv2.normalize(sobel_combined, None, 0, 255, cv2.NORM_MINMAX)\n",
        "\n",
        "    sobel_combined = np.uint8(sobel_combined)\n",
        "\n",
        "\n",
        "    return sobel_combined\n",
        "\n",
        "# Apply Canny edge detector to black and white image\n",
        "def apply_canny_bw(image):\n",
        "    edges = cv2.Canny(image, 50, 150)\n",
        "    return edges\n",
        "\n",
        "# Create Google Drive folder for black and white images\n",
        "bw_folder = \"/content/drive/Shareddrives/visionFinal/B_W_Images\"\n",
        "os.makedirs(bw_folder, exist_ok=True)\n",
        "\n",
        "# Process and save images\n",
        "sobel_folder = \"/content/drive/Shareddrives/visionFinal/Sobel_Filter_Images\"\n",
        "canny_folder = \"/content/drive/Shareddrives/visionFinal/Canny_Filter_Images\"\n",
        "os.makedirs(sobel_folder, exist_ok=True)\n",
        "os.makedirs(canny_folder, exist_ok=True)\n",
        "\n",
        "for idx, img in enumerate(images):\n",
        "    # Convert input image to black and white\n",
        "    img_bw = cv2.cvtColor(img, cv2.COLOR_BGR2GRAY)\n",
        "\n",
        "    # Save black and white image to the B_W_Images folder\n",
        "    cv2.imwrite(os.path.join(bw_folder, f\"bw_{idx}.png\"), img_bw)\n",
        "\n",
        "    # Apply Sobel filter to black and white image, and save them to the sobel_folder\n",
        "    sobel_img = apply_sobel_bw(img_bw)\n",
        "    cv2.imwrite(os.path.join(sobel_folder, f\"sobel_{idx}.png\"), sobel_img)\n",
        "\n",
        "    # Apply Canny edge detector to black and white image\n",
        "    canny_img = apply_canny_bw(img_bw)\n",
        "    cv2.imwrite(os.path.join(canny_folder, f\"canny_{idx}.png\"), canny_img)\n"
      ],
      "metadata": {
        "id": "90hxj0jcTgpL"
      },
      "execution_count": null,
      "outputs": []
    }
  ]
}
