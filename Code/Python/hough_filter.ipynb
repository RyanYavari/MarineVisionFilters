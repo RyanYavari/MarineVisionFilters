{
  "nbformat": 4,
  "nbformat_minor": 0,
  "metadata": {
    "colab": {
      "provenance": [],
      "authorship_tag": "ABX9TyPTKvJKEKZ/QlVDzy4ngEdZ",
      "include_colab_link": true
    },
    "kernelspec": {
      "name": "python3",
      "display_name": "Python 3"
    },
    "language_info": {
      "name": "python"
    }
  },
  "cells": [
    {
      "cell_type": "markdown",
      "metadata": {
        "id": "view-in-github",
        "colab_type": "text"
      },
      "source": [
        "<a href=\"https://colab.research.google.com/github/RyanYavari/MarineVisionFilters/blob/main/hough_filter.ipynb\" target=\"_parent\"><img src=\"https://colab.research.google.com/assets/colab-badge.svg\" alt=\"Open In Colab\"/></a>"
      ]
    },
    {
      "cell_type": "code",
      "source": [
        "# Libraries\n",
        "\n",
        "!pip install opencv-python\n",
        "!pip install opencv-python-headless\n",
        "!pip install numpy\n",
        "!pip install matplotlib\n",
        "\n",
        "import cv2\n",
        "import os\n",
        "import matplotlib.pyplot as plt\n",
        "import numpy as np"
      ],
      "metadata": {
        "colab": {
          "base_uri": "https://localhost:8080/"
        },
        "id": "iJGRFT2Kon8e",
        "outputId": "724f30ed-e03f-4b85-c183-11d4c5afed74"
      },
      "execution_count": null,
      "outputs": [
        {
          "output_type": "stream",
          "name": "stdout",
          "text": [
            "Requirement already satisfied: opencv-python in /usr/local/lib/python3.10/dist-packages (4.8.0.76)\n",
            "Requirement already satisfied: numpy>=1.21.2 in /usr/local/lib/python3.10/dist-packages (from opencv-python) (1.23.5)\n",
            "Requirement already satisfied: opencv-python-headless in /usr/local/lib/python3.10/dist-packages (4.8.1.78)\n",
            "Requirement already satisfied: numpy>=1.21.2 in /usr/local/lib/python3.10/dist-packages (from opencv-python-headless) (1.23.5)\n",
            "Requirement already satisfied: numpy in /usr/local/lib/python3.10/dist-packages (1.23.5)\n",
            "Requirement already satisfied: matplotlib in /usr/local/lib/python3.10/dist-packages (3.7.1)\n",
            "Requirement already satisfied: contourpy>=1.0.1 in /usr/local/lib/python3.10/dist-packages (from matplotlib) (1.2.0)\n",
            "Requirement already satisfied: cycler>=0.10 in /usr/local/lib/python3.10/dist-packages (from matplotlib) (0.12.1)\n",
            "Requirement already satisfied: fonttools>=4.22.0 in /usr/local/lib/python3.10/dist-packages (from matplotlib) (4.45.1)\n",
            "Requirement already satisfied: kiwisolver>=1.0.1 in /usr/local/lib/python3.10/dist-packages (from matplotlib) (1.4.5)\n",
            "Requirement already satisfied: numpy>=1.20 in /usr/local/lib/python3.10/dist-packages (from matplotlib) (1.23.5)\n",
            "Requirement already satisfied: packaging>=20.0 in /usr/local/lib/python3.10/dist-packages (from matplotlib) (23.2)\n",
            "Requirement already satisfied: pillow>=6.2.0 in /usr/local/lib/python3.10/dist-packages (from matplotlib) (9.4.0)\n",
            "Requirement already satisfied: pyparsing>=2.3.1 in /usr/local/lib/python3.10/dist-packages (from matplotlib) (3.1.1)\n",
            "Requirement already satisfied: python-dateutil>=2.7 in /usr/local/lib/python3.10/dist-packages (from matplotlib) (2.8.2)\n",
            "Requirement already satisfied: six>=1.5 in /usr/local/lib/python3.10/dist-packages (from python-dateutil>=2.7->matplotlib) (1.16.0)\n"
          ]
        }
      ]
    },
    {
      "cell_type": "code",
      "source": [
        "# mounting drive\n",
        "from google.colab import drive\n",
        "drive.mount('/content/drive')\n",
        "\n",
        "# Load images into array\n",
        "images_path = \"/content/drive/Shareddrives/visionFinal/ARMSPLATES/\"\n",
        "images = [cv2.imread(os.path.join(images_path, f)) for f in os.listdir(images_path)]"
      ],
      "metadata": {
        "colab": {
          "base_uri": "https://localhost:8080/"
        },
        "id": "sj6dwD9CotpU",
        "outputId": "b02ca5d8-6d03-4474-8335-a9dbb8f306e6"
      },
      "execution_count": null,
      "outputs": [
        {
          "output_type": "stream",
          "name": "stdout",
          "text": [
            "Mounted at /content/drive\n"
          ]
        }
      ]
    },
    {
      "cell_type": "code",
      "execution_count": null,
      "metadata": {
        "id": "WQXP7qJQoef5"
      },
      "outputs": [],
      "source": [
        "\n",
        "# Sobel preprocessing for hough transform\n",
        "\n",
        "def sobel_func(image):\n",
        "    sobel_x = cv2.Sobel(image, cv2.CV_64F, 1, 0, ksize=5)\n",
        "    sobel_y = cv2.Sobel(image, cv2.CV_64F, 0, 1, ksize=5)\n",
        "    sobel_img = cv2.magnitude(sobel_x, sobel_y)\n",
        "\n",
        "#Normalize and reassign the pixel values to be unsigned\n",
        "    sobel_img = cv2.normalize(sobel_img, None, 0, 255, cv2.NORM_MINMAX)\n",
        "    sobel_img = np.uint8(sobel_img)\n",
        "\n",
        "#Convert sobel to grayscale\n",
        "    sobel_img = cv2.cvtColor(sobel_img, cv2.COLOR_BGR2GRAY)\n",
        "\n",
        "    return sobel_img\n",
        "\n",
        "# Hough Transform Filter\n",
        "def hough(image):\n",
        "    # Apply Gaussian blur to smooth out textures and prevent unwanted circles\n",
        "    gray_blurred = cv2.GaussianBlur(image, (15, 15), 2)\n",
        "\n",
        "    # Apply Sobel edge detection to blurred image\n",
        "    sobel_img = sobel_func(gray_blurred)\n",
        "\n",
        "    # Apply HoughCircles method for screw (circle) detection\n",
        "    circles = cv2.HoughCircles(\n",
        "        sobel_img,\n",
        "        cv2.HOUGH_GRADIENT,\n",
        "        dp=1,\n",
        "        minDist=20,\n",
        "        param1=50,\n",
        "        param2=30,\n",
        "        minRadius=35, #smallest screw radius\n",
        "        maxRadius=45 #biggest screw radius\n",
        "    )\n",
        "\n",
        "#Increase radius of accumulator if circle not detected\n",
        "    if circles is not None:\n",
        "        circles = np.uint16(np.around(circles))\n",
        "        for i in circles[0, :]:\n",
        "            cv2.circle(image, (i[0], i[1]), i[2], (255, 0, 255), 10) #Magenta color, thickness = 10\n",
        "\n",
        "# Process and save images\n",
        "hough_folder = \"/content/drive/Shareddrives/visionFinal/Hough_Transform_Filter_Images\"\n",
        "os.makedirs(hough_folder, exist_ok=True)\n",
        "\n",
        "#Load images into hough folder\n",
        "for i, img in enumerate(images):\n",
        "    labeled_images = img.copy()\n",
        "    hough(labeled_images)\n",
        "    cv2.imwrite(os.path.join(hough_folder, f\"hough_{i}.png\"), labeled_images)"
      ]
    }
  ]
}
