{
  "nbformat": 4,
  "nbformat_minor": 0,
  "metadata": {
    "colab": {
      "provenance": [],
      "include_colab_link": true
    },
    "kernelspec": {
      "name": "python3",
      "display_name": "Python 3"
    },
    "language_info": {
      "name": "python"
    }
  },
  "cells": [
    {
      "cell_type": "markdown",
      "metadata": {
        "id": "view-in-github",
        "colab_type": "text"
      },
      "source": [
        "<a href=\"https://colab.research.google.com/github/RyanYavari/MarineVisionFilters/blob/main/gaussian_filter.ipynb\" target=\"_parent\"><img src=\"https://colab.research.google.com/assets/colab-badge.svg\" alt=\"Open In Colab\"/></a>"
      ]
    },
    {
      "cell_type": "code",
      "execution_count": null,
      "metadata": {
        "id": "G410rFxwQqDn",
        "colab": {
          "base_uri": "https://localhost:8080/"
        },
        "outputId": "1a67b35e-cddc-415a-8293-63250435852c"
      },
      "outputs": [
        {
          "output_type": "stream",
          "name": "stdout",
          "text": [
            "Requirement already satisfied: opencv-python in /usr/local/lib/python3.10/dist-packages (4.8.0.76)\n",
            "Requirement already satisfied: numpy>=1.21.2 in /usr/local/lib/python3.10/dist-packages (from opencv-python) (1.23.5)\n",
            "Requirement already satisfied: opencv-python-headless in /usr/local/lib/python3.10/dist-packages (4.8.1.78)\n",
            "Requirement already satisfied: numpy>=1.21.2 in /usr/local/lib/python3.10/dist-packages (from opencv-python-headless) (1.23.5)\n",
            "Requirement already satisfied: numpy in /usr/local/lib/python3.10/dist-packages (1.23.5)\n",
            "Requirement already satisfied: matplotlib in /usr/local/lib/python3.10/dist-packages (3.7.1)\n",
            "Requirement already satisfied: contourpy>=1.0.1 in /usr/local/lib/python3.10/dist-packages (from matplotlib) (1.2.0)\n",
            "Requirement already satisfied: cycler>=0.10 in /usr/local/lib/python3.10/dist-packages (from matplotlib) (0.12.1)\n",
            "Requirement already satisfied: fonttools>=4.22.0 in /usr/local/lib/python3.10/dist-packages (from matplotlib) (4.45.1)\n",
            "Requirement already satisfied: kiwisolver>=1.0.1 in /usr/local/lib/python3.10/dist-packages (from matplotlib) (1.4.5)\n",
            "Requirement already satisfied: numpy>=1.20 in /usr/local/lib/python3.10/dist-packages (from matplotlib) (1.23.5)\n",
            "Requirement already satisfied: packaging>=20.0 in /usr/local/lib/python3.10/dist-packages (from matplotlib) (23.2)\n",
            "Requirement already satisfied: pillow>=6.2.0 in /usr/local/lib/python3.10/dist-packages (from matplotlib) (9.4.0)\n",
            "Requirement already satisfied: pyparsing>=2.3.1 in /usr/local/lib/python3.10/dist-packages (from matplotlib) (3.1.1)\n",
            "Requirement already satisfied: python-dateutil>=2.7 in /usr/local/lib/python3.10/dist-packages (from matplotlib) (2.8.2)\n",
            "Requirement already satisfied: six>=1.5 in /usr/local/lib/python3.10/dist-packages (from python-dateutil>=2.7->matplotlib) (1.16.0)\n"
          ]
        }
      ],
      "source": [
        "# Libraries\n",
        "\n",
        "!pip install opencv-python\n",
        "!pip install opencv-python-headless\n",
        "!pip install numpy\n",
        "!pip install matplotlib\n",
        "\n",
        "import cv2\n",
        "import os\n",
        "import matplotlib.pyplot as plt\n",
        "import numpy as np"
      ]
    },
    {
      "cell_type": "code",
      "source": [
        "# mounting drive\n",
        "from google.colab import drive\n",
        "drive.mount('/content/drive')\n",
        "\n",
        "# Load images into array\n",
        "images_path = \"/content/drive/Shareddrives/visionFinal/ARMSPLATES/\"\n",
        "images = [cv2.imread(os.path.join(images_path, f)) for f in os.listdir(images_path)]\n"
      ],
      "metadata": {
        "id": "-GFlsbfqQx8i",
        "colab": {
          "base_uri": "https://localhost:8080/"
        },
        "outputId": "db4365d6-c990-40b7-9613-fbd9ff8aa231"
      },
      "execution_count": null,
      "outputs": [
        {
          "output_type": "stream",
          "name": "stdout",
          "text": [
            "Mounted at /content/drive\n"
          ]
        }
      ]
    },
    {
      "cell_type": "code",
      "source": [
        "# Apply 15x15 Gaussian filter\n",
        "def gaussian_filter(image):\n",
        "    gaussian_image = cv2.GaussianBlur(image, (15, 15), 5)\n",
        "    return gaussian_image\n",
        "\n",
        "# Save images into folder\n",
        "gaussian_folder = \"/content/drive/Shareddrives/visionFinal/Gaussian_Filter_Images\"\n",
        "os.makedirs(gaussian_folder, exist_ok=True)\n",
        "\n",
        "for i, img in enumerate(images):\n",
        "    blurred = gaussian_filter(img)\n",
        "    cv2.imwrite(os.path.join(gaussian_folder, f\"gaussian_{i}.png\"), blurred)\n",
        "\n"
      ],
      "metadata": {
        "id": "qGYsttC9RfXN"
      },
      "execution_count": null,
      "outputs": []
    }
  ]
}